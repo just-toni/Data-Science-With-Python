{
 "cells": [
  {
   "cell_type": "code",
   "execution_count": 1,
   "id": "89912be2",
   "metadata": {},
   "outputs": [],
   "source": [
    "def product_or_sum(a, b):\n",
    "    if(a * b > 1000):\n",
    "        return a + b\n",
    "    return a * b"
   ]
  },
  {
   "cell_type": "code",
   "execution_count": 2,
   "id": "0c82e6cd",
   "metadata": {},
   "outputs": [
    {
     "data": {
      "text/plain": [
       "6"
      ]
     },
     "execution_count": 2,
     "metadata": {},
     "output_type": "execute_result"
    }
   ],
   "source": [
    "product_or_sum(2,3)"
   ]
  },
  {
   "cell_type": "code",
   "execution_count": 3,
   "id": "d4550015",
   "metadata": {},
   "outputs": [
    {
     "data": {
      "text/plain": [
       "300"
      ]
     },
     "execution_count": 3,
     "metadata": {},
     "output_type": "execute_result"
    }
   ],
   "source": [
    "product_or_sum(100,200)"
   ]
  },
  {
   "cell_type": "code",
   "execution_count": 17,
   "id": "a75d4a96",
   "metadata": {},
   "outputs": [],
   "source": [
    "def display_character_at_even_index_number(string ,evenNumber):\n",
    "    for character in string :\n",
    "        if(evenNumber % 2 == 0):\n",
    "            return string[evenNumber]\n",
    "    return string"
   ]
  },
  {
   "cell_type": "code",
   "execution_count": 18,
   "id": "453ecd77",
   "metadata": {},
   "outputs": [
    {
     "ename": "NameError",
     "evalue": "name 'Toniafeds' is not defined",
     "output_type": "error",
     "traceback": [
      "\u001b[1;31m---------------------------------------------------------------------------\u001b[0m",
      "\u001b[1;31mNameError\u001b[0m                                 Traceback (most recent call last)",
      "\u001b[1;32m<ipython-input-18-ef114aeddaf9>\u001b[0m in \u001b[0;36m<module>\u001b[1;34m\u001b[0m\n\u001b[1;32m----> 1\u001b[1;33m \u001b[0mdisplay_character_at_even_index_number\u001b[0m\u001b[1;33m(\u001b[0m\u001b[0mToniafeds\u001b[0m\u001b[1;33m,\u001b[0m \u001b[1;36m4\u001b[0m\u001b[1;33m)\u001b[0m\u001b[1;33m\u001b[0m\u001b[1;33m\u001b[0m\u001b[0m\n\u001b[0m",
      "\u001b[1;31mNameError\u001b[0m: name 'Toniafeds' is not defined"
     ]
    }
   ],
   "source": [
    "display_character_at_even_index_number(Toniafeds, 4)"
   ]
  },
  {
   "cell_type": "code",
   "execution_count": 19,
   "id": "7d4f1050",
   "metadata": {},
   "outputs": [
    {
     "data": {
      "text/plain": [
       "'a'"
      ]
     },
     "execution_count": 19,
     "metadata": {},
     "output_type": "execute_result"
    }
   ],
   "source": [
    "display_character_at_even_index_number(\"Toniafeds\", 4)"
   ]
  },
  {
   "cell_type": "code",
   "execution_count": 67,
   "id": "ea7a9c96",
   "metadata": {},
   "outputs": [],
   "source": [
    "def multiplication_table():\n",
    "    for i in range(1, 11):\n",
    "        for j in range(1, 11):\n",
    "            print(f\" {i} * {j} == {i * j}\")\n",
    "        print()"
   ]
  },
  {
   "cell_type": "code",
   "execution_count": 68,
   "id": "984ccab5",
   "metadata": {},
   "outputs": [
    {
     "name": "stdout",
     "output_type": "stream",
     "text": [
      " 1 * 1 == 1\n",
      " 1 * 2 == 2\n",
      " 1 * 3 == 3\n",
      " 1 * 4 == 4\n",
      " 1 * 5 == 5\n",
      " 1 * 6 == 6\n",
      " 1 * 7 == 7\n",
      " 1 * 8 == 8\n",
      " 1 * 9 == 9\n",
      " 1 * 10 == 10\n",
      "\n",
      " 2 * 1 == 2\n",
      " 2 * 2 == 4\n",
      " 2 * 3 == 6\n",
      " 2 * 4 == 8\n",
      " 2 * 5 == 10\n",
      " 2 * 6 == 12\n",
      " 2 * 7 == 14\n",
      " 2 * 8 == 16\n",
      " 2 * 9 == 18\n",
      " 2 * 10 == 20\n",
      "\n",
      " 3 * 1 == 3\n",
      " 3 * 2 == 6\n",
      " 3 * 3 == 9\n",
      " 3 * 4 == 12\n",
      " 3 * 5 == 15\n",
      " 3 * 6 == 18\n",
      " 3 * 7 == 21\n",
      " 3 * 8 == 24\n",
      " 3 * 9 == 27\n",
      " 3 * 10 == 30\n",
      "\n",
      " 4 * 1 == 4\n",
      " 4 * 2 == 8\n",
      " 4 * 3 == 12\n",
      " 4 * 4 == 16\n",
      " 4 * 5 == 20\n",
      " 4 * 6 == 24\n",
      " 4 * 7 == 28\n",
      " 4 * 8 == 32\n",
      " 4 * 9 == 36\n",
      " 4 * 10 == 40\n",
      "\n",
      " 5 * 1 == 5\n",
      " 5 * 2 == 10\n",
      " 5 * 3 == 15\n",
      " 5 * 4 == 20\n",
      " 5 * 5 == 25\n",
      " 5 * 6 == 30\n",
      " 5 * 7 == 35\n",
      " 5 * 8 == 40\n",
      " 5 * 9 == 45\n",
      " 5 * 10 == 50\n",
      "\n",
      " 6 * 1 == 6\n",
      " 6 * 2 == 12\n",
      " 6 * 3 == 18\n",
      " 6 * 4 == 24\n",
      " 6 * 5 == 30\n",
      " 6 * 6 == 36\n",
      " 6 * 7 == 42\n",
      " 6 * 8 == 48\n",
      " 6 * 9 == 54\n",
      " 6 * 10 == 60\n",
      "\n",
      " 7 * 1 == 7\n",
      " 7 * 2 == 14\n",
      " 7 * 3 == 21\n",
      " 7 * 4 == 28\n",
      " 7 * 5 == 35\n",
      " 7 * 6 == 42\n",
      " 7 * 7 == 49\n",
      " 7 * 8 == 56\n",
      " 7 * 9 == 63\n",
      " 7 * 10 == 70\n",
      "\n",
      " 8 * 1 == 8\n",
      " 8 * 2 == 16\n",
      " 8 * 3 == 24\n",
      " 8 * 4 == 32\n",
      " 8 * 5 == 40\n",
      " 8 * 6 == 48\n",
      " 8 * 7 == 56\n",
      " 8 * 8 == 64\n",
      " 8 * 9 == 72\n",
      " 8 * 10 == 80\n",
      "\n",
      " 9 * 1 == 9\n",
      " 9 * 2 == 18\n",
      " 9 * 3 == 27\n",
      " 9 * 4 == 36\n",
      " 9 * 5 == 45\n",
      " 9 * 6 == 54\n",
      " 9 * 7 == 63\n",
      " 9 * 8 == 72\n",
      " 9 * 9 == 81\n",
      " 9 * 10 == 90\n",
      "\n",
      " 10 * 1 == 10\n",
      " 10 * 2 == 20\n",
      " 10 * 3 == 30\n",
      " 10 * 4 == 40\n",
      " 10 * 5 == 50\n",
      " 10 * 6 == 60\n",
      " 10 * 7 == 70\n",
      " 10 * 8 == 80\n",
      " 10 * 9 == 90\n",
      " 10 * 10 == 100\n",
      "\n"
     ]
    }
   ],
   "source": [
    "multiplication_table()"
   ]
  },
  {
   "cell_type": "code",
   "execution_count": 74,
   "id": "d0eb7cf7",
   "metadata": {},
   "outputs": [],
   "source": [
    "def exponent(base, exp):\n",
    "    return base ** exp"
   ]
  },
  {
   "cell_type": "code",
   "execution_count": 75,
   "id": "c2c4aa40",
   "metadata": {},
   "outputs": [
    {
     "data": {
      "text/plain": [
       "8"
      ]
     },
     "execution_count": 75,
     "metadata": {},
     "output_type": "execute_result"
    }
   ],
   "source": [
    "exponent(2,3)"
   ]
  },
  {
   "cell_type": "code",
   "execution_count": 85,
   "id": "3452f6ff",
   "metadata": {},
   "outputs": [],
   "source": [
    "def reverse_list(list):\n",
    "    for i in range(len(list)):\n",
    "        reversed_list = list[::-1]\n",
    "        return reversed_list"
   ]
  },
  {
   "cell_type": "code",
   "execution_count": 86,
   "id": "beca4180",
   "metadata": {},
   "outputs": [
    {
     "data": {
      "text/plain": [
       "[99, True, 'Tom', 4, 3, 2]"
      ]
     },
     "execution_count": 86,
     "metadata": {},
     "output_type": "execute_result"
    }
   ],
   "source": [
    "reverse_list([2, 3, 4, \"Tom\", True, 99])"
   ]
  },
  {
   "cell_type": "code",
   "execution_count": 106,
   "id": "a9049aed",
   "metadata": {},
   "outputs": [],
   "source": [
    "def find_value_in_list(list):\n",
    "    for i in range(len(list)):\n",
    "        if(list[i] == 20):\n",
    "            list[i] = 200\n",
    "            break\n",
    "    print(list) "
   ]
  },
  {
   "cell_type": "code",
   "execution_count": 107,
   "id": "7600bf4d",
   "metadata": {},
   "outputs": [
    {
     "name": "stdout",
     "output_type": "stream",
     "text": [
      "[1, 2, 3, 4, 200, 4, 5, 20]\n"
     ]
    }
   ],
   "source": [
    "find_value_in_list([1,2,3,4,20,4,5,20])"
   ]
  },
  {
   "cell_type": "code",
   "execution_count": null,
   "id": "929dcf1d",
   "metadata": {},
   "outputs": [],
   "source": [
    "def prime_numbers(rangeNumber):\n",
    "    for i in range(len(rangeNumber)):\n",
    "        if()"
   ]
  },
  {
   "cell_type": "code",
   "execution_count": 112,
   "id": "24a80f8d",
   "metadata": {},
   "outputs": [],
   "source": [
    "def calculation(first, second):\n",
    "    add = first + second\n",
    "    subtract = first - second\n",
    "    return (add, subtract)"
   ]
  },
  {
   "cell_type": "code",
   "execution_count": 113,
   "id": "9af5b501",
   "metadata": {},
   "outputs": [
    {
     "data": {
      "text/plain": [
       "(7, -3)"
      ]
     },
     "execution_count": 113,
     "metadata": {},
     "output_type": "execute_result"
    }
   ],
   "source": [
    "calculation(2,5)"
   ]
  },
  {
   "cell_type": "code",
   "execution_count": 118,
   "id": "dda02d1c",
   "metadata": {},
   "outputs": [
    {
     "name": "stdout",
     "output_type": "stream",
     "text": [
      "-10\n",
      "-9\n",
      "-8\n",
      "-7\n",
      "-6\n",
      "-5\n",
      "-4\n",
      "-3\n",
      "-2\n",
      "-1\n"
     ]
    }
   ],
   "source": [
    "for i in range(-10,0):\n",
    "    print (i)"
   ]
  },
  {
   "cell_type": "code",
   "execution_count": 134,
   "id": "384f0994",
   "metadata": {},
   "outputs": [],
   "source": [
    "def loop_iteration(list):\n",
    "    for i in range(len(list)):\n",
    "        if i > 150:\n",
    "            break\n",
    "        if i % 5 == 0:\n",
    "            print(i)\n",
    "        "
   ]
  },
  {
   "cell_type": "code",
   "execution_count": 135,
   "id": "eaf7e9fd",
   "metadata": {},
   "outputs": [
    {
     "name": "stdout",
     "output_type": "stream",
     "text": [
      "0\n",
      "5\n"
     ]
    }
   ],
   "source": [
    "loop_iteration([1,4,10,18,15,100,200])"
   ]
  },
  {
   "cell_type": "code",
   "execution_count": null,
   "id": "e7c8b37c",
   "metadata": {},
   "outputs": [],
   "source": [
    "for i in range"
   ]
  }
 ],
 "metadata": {
  "kernelspec": {
   "display_name": "Python 3",
   "language": "python",
   "name": "python3"
  },
  "language_info": {
   "codemirror_mode": {
    "name": "ipython",
    "version": 3
   },
   "file_extension": ".py",
   "mimetype": "text/x-python",
   "name": "python",
   "nbconvert_exporter": "python",
   "pygments_lexer": "ipython3",
   "version": "3.8.8"
  }
 },
 "nbformat": 4,
 "nbformat_minor": 5
}
